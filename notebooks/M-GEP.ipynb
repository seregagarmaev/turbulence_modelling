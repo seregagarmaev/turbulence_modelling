{
 "cells": [
  {
   "cell_type": "markdown",
   "id": "86ac23e6-45e1-449b-ab9e-2a5d03841c0a",
   "metadata": {},
   "source": [
    "# M-GEP"
   ]
  },
  {
   "cell_type": "code",
   "execution_count": 1,
   "id": "c501945f-56ba-4c02-b373-f311a0a7c1b2",
   "metadata": {},
   "outputs": [],
   "source": [
    "import numpy as np\n",
    "import pandas as pd\n",
    "from sklearn.model_selection import train_test_split\n",
    "from sklearn.preprocessing import StandardScaler\n",
    "import random\n",
    "import copy"
   ]
  },
  {
   "cell_type": "code",
   "execution_count": 2,
   "id": "562144df-d3c9-4e00-bd16-6ee1e16c5bbf",
   "metadata": {},
   "outputs": [],
   "source": [
    "dataset = 'kepsilon'\n",
    "\n",
    "# Loading data - select which cases to include in the training/validation set (commented out cases are held out)\n",
    "cases = ['DUCT_1100',\n",
    "         'DUCT_1150',\n",
    "         'DUCT_1250',\n",
    "         'DUCT_1300',\n",
    "         'DUCT_1350',\n",
    "         'DUCT_1400',\n",
    "         'DUCT_1500',\n",
    "         'DUCT_1600',\n",
    "         'DUCT_1800',\n",
    "         #'DUCT_2000',\n",
    "         'DUCT_2205',\n",
    "         'DUCT_2400',\n",
    "         'DUCT_2600',\n",
    "         'DUCT_2900',\n",
    "         'DUCT_3200',\n",
    "         #'DUCT_3500',\n",
    "         'PHLL_case_0p5',\n",
    "         'PHLL_case_0p8',\n",
    "         'PHLL_case_1p0',\n",
    "         #'PHLL_case_1p2',\n",
    "         'PHLL_case_1p5',\n",
    "         'BUMP_h20',\n",
    "         'BUMP_h26',\n",
    "         'BUMP_h31',\n",
    "         #'BUMP_h38',\n",
    "         'BUMP_h42',\n",
    "         'CNDV_12600',\n",
    "         'CNDV_20580',\n",
    "         'CBFS_13700'\n",
    "         ]"
   ]
  },
  {
   "cell_type": "code",
   "execution_count": 3,
   "id": "d51fd43d-1ccc-4d9a-8a3a-6cb312d784e3",
   "metadata": {},
   "outputs": [],
   "source": [
    "#Convenient functions for loading dataset\n",
    "def loadCombinedArray(cases,field):\n",
    "    data = np.concatenate([np.load('../data/'+dataset+'/'+dataset+'_'+case+'_'+field + '.npy', allow_pickle=True) for case in cases])\n",
    "    return data"
   ]
  },
  {
   "cell_type": "code",
   "execution_count": 4,
   "id": "4774ee95-f73b-441a-b1b5-72f6aaa5eddd",
   "metadata": {},
   "outputs": [],
   "source": [
    "def loadLabels(cases,field):\n",
    "    data = np.concatenate([np.load('../data/'+'labels/'+case+'_'+field + '.npy') for case in cases])\n",
    "    return data"
   ]
  },
  {
   "cell_type": "code",
   "execution_count": 5,
   "id": "e478cecb-e622-4eac-bac1-60e02ecf93a1",
   "metadata": {},
   "outputs": [
    {
     "name": "stdout",
     "output_type": "stream",
     "text": [
      "Loading features and labels from the dataset: kepsilon\n"
     ]
    }
   ],
   "source": [
    "print('Loading features and labels from the dataset: '+ dataset)"
   ]
  },
  {
   "cell_type": "code",
   "execution_count": 6,
   "id": "de055720-48dd-4cf5-9a48-6642b7023ab5",
   "metadata": {},
   "outputs": [
    {
     "name": "stdout",
     "output_type": "stream",
     "text": [
      "Shape of basis tensor array: (791490, 10, 3, 3)\n"
     ]
    }
   ],
   "source": [
    "#Load the set of ten basis tensors (N,10,3,3), from Pope \"A more general effective-viscosity hypothesis\" (1975).\n",
    "Tensors = loadCombinedArray(cases,'Tensors')\n",
    "print('Shape of basis tensor array: '+str(Tensors.shape))"
   ]
  },
  {
   "cell_type": "code",
   "execution_count": 7,
   "id": "70b55a08-b344-41bc-b8df-19c661b36cfc",
   "metadata": {},
   "outputs": [
    {
     "name": "stdout",
     "output_type": "stream",
     "text": [
      "Shape of invariant features array: (791490, 47)\n"
     ]
    }
   ],
   "source": [
    "#Load the 47 invariants (N,47) used by Wu et al. \"Physics-informed machine learning approach for augmenting turbulence models: A comprehensive framework\" (2018)\n",
    "Invariants = loadCombinedArray(cases,'I1')\n",
    "print('Shape of invariant features array: '+str(Invariants.shape))"
   ]
  },
  {
   "cell_type": "code",
   "execution_count": 8,
   "id": "4eb6706d-8493-4c3c-ae4b-50aeb9cecc8f",
   "metadata": {},
   "outputs": [],
   "source": [
    "# #Load the additional scalars (N,5): \n",
    "# Scalars = loadCombinedArray(cases,'q')\n",
    "# print('Shape of scalar features array: '+str(Scalars.shape))"
   ]
  },
  {
   "cell_type": "code",
   "execution_count": 9,
   "id": "8e9185f5-1f85-4c13-86a6-8c74f3c25a1e",
   "metadata": {},
   "outputs": [
    {
     "name": "stdout",
     "output_type": "stream",
     "text": [
      "Shape of combined features array: (791490, 47)\n"
     ]
    }
   ],
   "source": [
    "Features = Invariants.copy()\n",
    "print('Shape of combined features array: '+str(Features.shape))"
   ]
  },
  {
   "cell_type": "markdown",
   "id": "dde5f216-c09d-45b3-bdbe-ebf1d6485a16",
   "metadata": {},
   "source": [
    "# Data Processing"
   ]
  },
  {
   "cell_type": "code",
   "execution_count": 10,
   "id": "b61e5783-876c-445a-8d13-78cfab24d1d6",
   "metadata": {},
   "outputs": [],
   "source": [
    "def remove_outliers(Features):\n",
    "    stdev = np.std(Features,axis=0)\n",
    "    means = np.mean(Features,axis=0)\n",
    "    ind_drop = np.empty(0)\n",
    "    for i in range(len(Features[0,:])):\n",
    "        ind_drop = np.concatenate((ind_drop,np.where((Features[:,i]>means[i]+5*stdev[i]) | (Features[:,i]<means[i]-5*stdev[i]) )[0]))\n",
    "    return ind_drop.astype(int)\n",
    "\n",
    "outlier_removal_switch = 0\n",
    "if outlier_removal_switch == 1:\n",
    "    outlier_index = remove_outliers(Features)\n",
    "    print('Found '+str(len(outlier_index))+' outliers in the input feature set')\n",
    "    Features = np.delete(Features,outlier_index,axis=0)\n",
    "    Tensors = np.delete(Tensors,outlier_index,axis=0)\n",
    "    Labels = np.delete(Labels,outlier_index,axis=0)\n"
   ]
  },
  {
   "cell_type": "code",
   "execution_count": 11,
   "id": "30c6c3f6-702d-49af-9e5b-305e5cc18ab3",
   "metadata": {},
   "outputs": [
    {
     "name": "stdout",
     "output_type": "stream",
     "text": [
      "Shape of DNS/LES labels array: (791490, 3, 3)\n"
     ]
    }
   ],
   "source": [
    "#Load the label set from DNS/LES:\n",
    "Labels = loadLabels(cases,'b')\n",
    "#If desired, reshape the 3x3 symmetric anisotropy tensor into a 1x6 vector\n",
    "# Labels = np.delete(Labels.reshape((len(Labels),9)),[3,6,7],axis=1)\n",
    "print('Shape of DNS/LES labels array: '+str(Labels.shape))"
   ]
  },
  {
   "cell_type": "code",
   "execution_count": 12,
   "id": "3dbf9572-1efa-4ba8-abe1-644ffab6cca8",
   "metadata": {},
   "outputs": [],
   "source": [
    "indices = np.arange(Features.shape[0])"
   ]
  },
  {
   "cell_type": "code",
   "execution_count": 13,
   "id": "15e84683-08a7-4cb1-a29e-cbb4b57559f3",
   "metadata": {},
   "outputs": [],
   "source": [
    "x_train, x_val, y_train, y_val, ind_train, ind_val = train_test_split(Features, Labels, indices, test_size=0.2, random_state=10, shuffle=True)"
   ]
  },
  {
   "cell_type": "code",
   "execution_count": 14,
   "id": "2f9f09ef-b4cb-46ad-9e11-82a93f91d396",
   "metadata": {},
   "outputs": [],
   "source": [
    "basis_train = Tensors[ind_train]\n",
    "basis_val = Tensors[ind_val]"
   ]
  },
  {
   "cell_type": "code",
   "execution_count": 15,
   "id": "1de0cc25-afa4-4a00-aa97-6be6f33c3168",
   "metadata": {},
   "outputs": [],
   "source": [
    "# scaler = StandardScaler()\n",
    "# x_train = scaler.fit_transform(x_train)\n",
    "# x_val = scaler.transform(x_val)"
   ]
  },
  {
   "cell_type": "code",
   "execution_count": 16,
   "id": "e6bf5015-b168-4458-bcbf-4b5764de7678",
   "metadata": {},
   "outputs": [
    {
     "name": "stdout",
     "output_type": "stream",
     "text": [
      " \n",
      "Training features:\n",
      "(633192, 47)\n",
      "Training tensor basis:\n",
      "(633192, 10, 3, 3)\n",
      "Training labels:\n",
      "(633192, 3, 3)\n",
      " \n",
      "Validation features:\n",
      "(158298, 47)\n",
      "Validation tensor basis:\n",
      "(158298, 10, 3, 3)\n",
      "Validation labels:\n",
      "(158298, 3, 3)\n",
      " \n"
     ]
    }
   ],
   "source": [
    "print(' ')\n",
    "print('Training features:')\n",
    "print(x_train.shape)\n",
    "print('Training tensor basis:')\n",
    "print(basis_train.shape)\n",
    "print('Training labels:')\n",
    "print(y_train.shape)\n",
    "print(' ')\n",
    "print('Validation features:')\n",
    "print(x_val.shape)\n",
    "print('Validation tensor basis:')\n",
    "print(basis_val.shape)\n",
    "print('Validation labels:')\n",
    "print(y_val.shape)\n",
    "print(' ')"
   ]
  },
  {
   "cell_type": "markdown",
   "id": "f6fd0a63-bcb6-4114-a58f-e2d376b4a0f0",
   "metadata": {},
   "source": [
    "# GEP"
   ]
  },
  {
   "cell_type": "code",
   "execution_count": 18,
   "id": "ca2774b8-2036-4398-99e4-7f212492be7c",
   "metadata": {},
   "outputs": [],
   "source": [
    "def dot_prod(A, B):\n",
    "    return np.array([np.dot(a, b) for a, b in zip(A, B)])\n",
    "\n",
    "def transpose(a):\n",
    "    return np.transpose(a, axes=[0,2,1])"
   ]
  },
  {
   "cell_type": "code",
   "execution_count": 19,
   "id": "46c93559-b99f-42e5-9d93-3eaee2c31408",
   "metadata": {},
   "outputs": [],
   "source": [
    "class Operator:\n",
    "    def __init__(self, name, func):\n",
    "        self.name = name\n",
    "        self.func = func\n",
    "        self.nargs = 2\n",
    "        if self.name in ['T', 's', 'e']:\n",
    "            self.nargs = 1\n",
    "    def __call__(self, l, r=None):\n",
    "        if self.nargs == 1:\n",
    "            return self.func(l)\n",
    "        return self.func(l, r)\n",
    "\n",
    "class Terminal:\n",
    "    def __init__(self, name, value):\n",
    "        self.name = name\n",
    "        self.value = value\n",
    "\n",
    "# generate function set for chromosome\n",
    "def generate_F():\n",
    "    plus = Operator('+', np.add)\n",
    "    minus = Operator('-', np.subtract)\n",
    "    dot = Operator('.', dot_prod)\n",
    "    tp = Operator('T', transpose)\n",
    "    return [plus, minus, dot, tp]\n",
    "\n",
    "# generate terminal set for chromosome\n",
    "def generate_T():\n",
    "    Aij = Terminal('Aij', np.random.rand(2,3,3))\n",
    "    Bij = Terminal('Bij', np.random.rand(2,3,3))\n",
    "    I = Terminal('I', np.array([np.identity(3), np.identity(3)]))\n",
    "    RNCij = Terminal('RNCij', np.random.rand(2, 3, 3))\n",
    "    return [Aij, Bij, I, RNCij]\n",
    "\n",
    "# generate function set for plasmid\n",
    "def generate_Fp():\n",
    "    plus = Operator('+', np.add)\n",
    "    minus = Operator('-', np.subtract)\n",
    "    star = Operator('*', np.multiply)\n",
    "    sin = Operator('s', np.sin)\n",
    "    exp = Operator('e', np.exp)\n",
    "    return [plus, minus, star, sin, exp]\n",
    "\n",
    "# generate terminal set for plasmid\n",
    "def generate_Tp():\n",
    "    a = Terminal('a', [10, 12])\n",
    "    b = Terminal('b', [20, 22])\n",
    "    one = Terminal('1', [1, 1])\n",
    "    q = Terminal('?', [5,6])\n",
    "    return [a, b, one, q]"
   ]
  },
  {
   "cell_type": "code",
   "execution_count": 20,
   "id": "42bf9b76-8af0-4777-bf84-d29caaccfc2c",
   "metadata": {},
   "outputs": [],
   "source": [
    "def generate_head(h, set_FT, pls_params=None):\n",
    "    head = []\n",
    "    for i in range(h):\n",
    "        gene = np.random.choice(set_FT)\n",
    "        if gene == 'p':\n",
    "            gene = Plasmid(pls_params)\n",
    "        head.append(gene)\n",
    "    return np.array(head)\n",
    "\n",
    "def generate_tail(t, T):\n",
    "    tail = []\n",
    "    for i in range(t):\n",
    "        gene = np.random.choice(T)\n",
    "        tail.append(gene)\n",
    "    return np.array(tail)\n",
    "\n",
    "class Chromosome:\n",
    "    def __init__(self, chr_params, pls_params):\n",
    "        self.h = chr_params['h']\n",
    "        self.t = chr_params['t']\n",
    "        self.F = chr_params['F']\n",
    "        self.T = chr_params['T']\n",
    "        self.P = chr_params['P']\n",
    "        self.head = generate_head(self.h, self.F + self.T + self.P, pls_params)\n",
    "        self.tail = generate_tail(self.t, self.T)\n",
    "        self.pls_params = pls_params\n",
    "    \n",
    "    def calc(self, head, tail):\n",
    "        if len(head) != 0:\n",
    "            gene = head[0]\n",
    "            if type(gene) == Terminal:\n",
    "                return gene.value, head[1:], tail\n",
    "            elif type(gene) == Operator:\n",
    "                if gene.nargs == 2:\n",
    "                    left, new_head, new_tail = self.calc(head[1:], tail)\n",
    "                    right, new_head, new_tail = self.calc(new_head, new_tail)\n",
    "                    return gene(left, right), new_head, new_tail\n",
    "                elif gene.nargs == 1:\n",
    "                    left, new_head, new_tail = self.calc(head[1:], tail)\n",
    "                    return gene(left), new_head, new_tail\n",
    "            elif type(gene) == Plasmid:\n",
    "                left, new_head, new_tail = self.calc(head[1:], tail)\n",
    "                return gene(left), new_head, new_tail\n",
    "        else:\n",
    "            gene = tail[0]\n",
    "            return gene.value, head, tail[1:]\n",
    "\n",
    "    def forward(self):\n",
    "        value, _, _ = self.calc(self.head, self.tail)\n",
    "        return value\n",
    "\n",
    "class Plasmid:\n",
    "    def __init__(self, pls_params):\n",
    "        self.hp = pls_params['hp']\n",
    "        self.tp = pls_params['tp']\n",
    "        self.Fp = pls_params['Fp']\n",
    "        self.Tp = pls_params['Tp']\n",
    "        self.head = generate_head(self.hp, self.Fp + self.Tp)\n",
    "        self.tail = generate_tail(self.tp, self.Tp)\n",
    "        self.value = self.evaluate()\n",
    "        self.name = 'plasmid'\n",
    "\n",
    "    def __call__(self, x):\n",
    "        return np.multiply(self.value.reshape((-1, 1, 1)), x)\n",
    "    \n",
    "    def __calc(self, head, tail):\n",
    "        if len(head) == 0:\n",
    "            gene = tail[0]\n",
    "            # here gene type is always Terminal, however, we keep it for future\n",
    "            if type(gene) == Terminal:\n",
    "                return gene.value, head, tail[1:]\n",
    "            elif type(gene) == Operator:\n",
    "                if gene.nargs == 2:\n",
    "                    left, new_head, new_tail = self.__calc(head, tail[1:])\n",
    "                    right, new_head, new_tail = self.__calc(new_head, new_tail)\n",
    "                    return gene(left, right), new_head, new_tail\n",
    "                elif gene.nargs == 1:\n",
    "                    left, new_head, new_tail = self.__calc(head, tail[1:])\n",
    "                    return gene(left), new_head, new_tail\n",
    "        else:\n",
    "            gene = head[0]\n",
    "            if type(gene) == Terminal:\n",
    "                return gene.value, head[1:], tail\n",
    "            elif type(gene) == Operator:\n",
    "                if gene.nargs == 2:\n",
    "                    left, new_head, new_tail = self.__calc(head[1:], tail)\n",
    "                    right, new_head, new_tail = self.__calc(new_head, new_tail)\n",
    "                    return gene(left, right), new_head, new_tail\n",
    "                elif gene.nargs == 1:\n",
    "                    left, new_head, new_tail = self.__calc(head[1:], tail)\n",
    "                    return gene(left), new_head, new_tail\n",
    "    def evaluate(self):\n",
    "        value, _, _ = self.__calc(self.head, self.tail)\n",
    "        return np.array(value).flatten()"
   ]
  },
  {
   "cell_type": "code",
   "execution_count": 35,
   "id": "c5199c0f-b09f-4b40-bdd9-1d114b0ec050",
   "metadata": {},
   "outputs": [],
   "source": [
    "class Population:\n",
    "    def __init__(self, N, chr_params, pls_params):\n",
    "        self.N = N\n",
    "        self.chr_params = chr_params\n",
    "        self.pls_params = pls_params\n",
    "        self.chromosomes = self.generate_population(self.N)\n",
    "\n",
    "    def generate_population(self, N):\n",
    "        chromosomes = []\n",
    "        for i in range(N):\n",
    "            individ = Chromosome(self.chr_params, self.pls_params)\n",
    "            chromosomes.append(individ)\n",
    "        return np.array(chromosomes)\n",
    "    \n",
    "    def compute_fitness(self, y_true):\n",
    "        values = []\n",
    "        for chromosome in self.chromosomes:\n",
    "            value = chromosome.forward()\n",
    "            values.append(value)\n",
    "        fitness = np.abs(np.sum(values - y_true, axis=(1,2,3)))\n",
    "        return fitness\n",
    "    \n",
    "    def select_fittest(self, fitness, frac=0.5):\n",
    "        median = np.median(fitness)\n",
    "        selection = fitness < median\n",
    "        return self.chromosomes[selection]\n",
    "    \n",
    "    def mutate_chromosome(self, chromosome):\n",
    "        n_genes = len(chromosome.head)\n",
    "        idx = np.random.randint(0, n_genes)\n",
    "        chromosome.head[idx] = np.random.choice(chromosome.F + chromosome.T + chromosome.P)\n",
    "        if chromosome.head[idx] == 'p':\n",
    "            chromosome.head[idx] = Plasmid(chromosome.pls_params)\n",
    "        return chromosome\n",
    "    \n",
    "    def mutate_population_chromosomes(self, chromosomes, p=0.05):\n",
    "        size = len(chromosomes)\n",
    "        mutation_indices = np.random.choice(np.arange(size), int(size*p))\n",
    "        for i in mutation_indices:\n",
    "            chromosomes[i] = self.mutate_chromosome(chromosomes[i])\n",
    "        return chromosomes\n",
    "    \n",
    "    def crossover(self, left, right):\n",
    "        h = len(left.head)\n",
    "        t = len(left.tail)\n",
    "\n",
    "        mask = np.random.choice([0, 1], size=(h,))\n",
    "        left.head[mask], right.head[mask] = right.head[mask], left.head[mask]\n",
    "\n",
    "        mask = np.random.choice([True, False], size=(t,))\n",
    "        left.tail[mask], right.tail[mask] = right.tail[mask], left.tail[mask]\n",
    "\n",
    "        return left, right\n",
    "    \n",
    "    def crossover_chromosomes(self, chromosomes):\n",
    "        mid = int(len(chromosomes)/2)\n",
    "        for i in range(mid):\n",
    "            chromosomes[i], chromosomes[-i-1] = self.crossover(chromosomes[i], chromosomes[-i-1])\n",
    "        return chromosomes\n",
    "    \n",
    "    def mutate_plasmid(self, plasmid):\n",
    "        head_len = len(plasmid.head)\n",
    "        tail_len = len(plasmid.tail)\n",
    "\n",
    "        if np.random.rand() < head_len / (head_len + tail_len):\n",
    "            idx = np.random.randint(0, head_len)\n",
    "            plasmid.head[idx] = np.random.choice(plasmid.Fp + plasmid.Tp)\n",
    "            return plasmid\n",
    "        else:\n",
    "            idx = np.random.randint(0, tail_len)\n",
    "            plasmid.tail[idx] = np.random.choice(plasmid.Tp)\n",
    "            return plasmid\n",
    "    \n",
    "    def mutate_population_plasmids(self, plasmids, p=0.05):\n",
    "        size = len(plasmids)\n",
    "        mutation_indices = np.random.choice(np.arange(size), int(size*p))\n",
    "        for i in mutation_indices:\n",
    "            plasmids[i] = mutate_plasmid(plasmids[i])\n",
    "        return plasmids\n",
    "    \n",
    "    def crossover_plasmids(self, plasmids):\n",
    "        mid = int(len(plasmids)/2)\n",
    "        for i in range(mid):\n",
    "            plasmids[i], plasmids[-i-1] = self.crossover(plasmids[i], plasmids[-i-1])\n",
    "        return plasmids\n",
    "    \n",
    "    def collect_plasmids(self, chromosomes):\n",
    "        plasmids = []\n",
    "        for i, chromosome in enumerate(chromosomes):\n",
    "            for j, gene in enumerate(chromosome.head):\n",
    "                if type(gene) == Plasmid:\n",
    "                    plasmids.append(gene)\n",
    "        return plasmids\n",
    "    \n",
    "    def redistribute_plasmids(self, plasmids, chromosomes):\n",
    "        i = 0\n",
    "        for chromosome in chromosomes:\n",
    "            for j, gene in enumerate(chromosome.head):\n",
    "                if type(gene) == Plasmid:\n",
    "                    chromosome.head[j] = plasmids[i]\n",
    "                    i += 1\n",
    "        return chromosomes\n",
    "\n",
    "    def iteration(self, y_true):\n",
    "        fitness = self.compute_fitness(y_true)\n",
    "        elite_chromosome = copy.deepcopy(self.chromosomes[np.argmin(fitness)])\n",
    "        self.chromosomes = np.delete(self.chromosomes, np.argmin(fitness))\n",
    "        fitness = np.delete(fitness, np.argmin(fitness))\n",
    "        new_generation = self.select_fittest(fitness)\n",
    "        new_generation = self.mutate_population_chromosomes(new_generation)\n",
    "        new_generation = self.crossover_chromosomes(new_generation)\n",
    "        \n",
    "        plasmids = self.collect_plasmids(new_generation)\n",
    "        plasmids = self.mutate_population_plasmids(plasmids)\n",
    "        plasmids = self.crossover_plasmids(plasmids)\n",
    "        new_generation = self.redistribute_plasmids(plasmids, new_generation)\n",
    "\n",
    "        extension = self.generate_population(self.N - len(new_generation) - 1)\n",
    "        \n",
    "        return np.concatenate(([elite_chromosome], new_generation, extension))\n",
    "    \n",
    "    def train(self, epochs, y_true):\n",
    "        for i in range(epochs):\n",
    "            self.chromosomes = self.iteration(y_true)\n",
    "            print(i)"
   ]
  },
  {
   "cell_type": "code",
   "execution_count": 36,
   "id": "493ecc82-b69c-41ed-935e-3f86f3bbde55",
   "metadata": {
    "tags": []
   },
   "outputs": [
    {
     "name": "stdout",
     "output_type": "stream",
     "text": [
      "0\n",
      "1\n",
      "2\n",
      "3\n",
      "4\n",
      "5\n",
      "6\n",
      "7\n",
      "8\n",
      "9\n"
     ]
    },
    {
     "name": "stderr",
     "output_type": "stream",
     "text": [
      "/tmp/ipykernel_4784/705305288.py:10: RuntimeWarning: overflow encountered in exp\n",
      "  return self.func(l)\n"
     ]
    }
   ],
   "source": [
    "h = 3\n",
    "t = h * (2 - 1) + 1\n",
    "hp = 3\n",
    "tp = hp * (2 - 1) + 1\n",
    "N = 100\n",
    "F = generate_F()\n",
    "T = generate_T()\n",
    "Fp = generate_Fp()\n",
    "Tp = generate_Tp()\n",
    "P = ['p']\n",
    "\n",
    "chr_params = {'h': h, 't': t, 'F': F, 'T': T, 'P': P}\n",
    "pls_params = {'hp': hp, 'tp': tp, 'Fp': Fp, 'Tp': Tp}\n",
    "\n",
    "y_true = np.ones((2, 3, 3))\n",
    "\n",
    "\n",
    "pop = Population(N, chr_params, pls_params)\n",
    "pop.train(10, y_true)"
   ]
  },
  {
   "cell_type": "code",
   "execution_count": 39,
   "id": "73f75e5e-a00b-49e0-8e6d-431cdcf39353",
   "metadata": {},
   "outputs": [
    {
     "data": {
      "text/plain": [
       "<__main__.Chromosome at 0x7f6a3e607310>"
      ]
     },
     "execution_count": 39,
     "metadata": {},
     "output_type": "execute_result"
    }
   ],
   "source": [
    "pop.chromosomes[0]"
   ]
  },
  {
   "cell_type": "code",
   "execution_count": null,
   "id": "7e8109d9-b256-496d-84b2-931d5db1556b",
   "metadata": {},
   "outputs": [],
   "source": []
  },
  {
   "cell_type": "code",
   "execution_count": null,
   "id": "73694cca-7740-434d-a309-f62b440e8745",
   "metadata": {},
   "outputs": [],
   "source": []
  },
  {
   "cell_type": "code",
   "execution_count": null,
   "id": "54fa6b31-e633-4f50-bfe4-3a24b2e38cb2",
   "metadata": {},
   "outputs": [],
   "source": []
  }
 ],
 "metadata": {
  "kernelspec": {
   "display_name": "Python 3 (ipykernel)",
   "language": "python",
   "name": "python3"
  },
  "language_info": {
   "codemirror_mode": {
    "name": "ipython",
    "version": 3
   },
   "file_extension": ".py",
   "mimetype": "text/x-python",
   "name": "python",
   "nbconvert_exporter": "python",
   "pygments_lexer": "ipython3",
   "version": "3.8.10"
  }
 },
 "nbformat": 4,
 "nbformat_minor": 5
}
