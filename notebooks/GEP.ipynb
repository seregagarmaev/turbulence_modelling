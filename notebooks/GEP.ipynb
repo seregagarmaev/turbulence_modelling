{
 "cells": [
  {
   "cell_type": "markdown",
   "id": "86ac23e6-45e1-449b-ab9e-2a5d03841c0a",
   "metadata": {},
   "source": [
    "# GEP"
   ]
  },
  {
   "cell_type": "code",
   "execution_count": 1,
   "id": "c501945f-56ba-4c02-b373-f311a0a7c1b2",
   "metadata": {},
   "outputs": [],
   "source": [
    "import numpy as np\n",
    "import pandas as pd\n",
    "from sklearn.model_selection import train_test_split\n",
    "from sklearn.preprocessing import StandardScaler\n",
    "import random"
   ]
  },
  {
   "cell_type": "code",
   "execution_count": 2,
   "id": "562144df-d3c9-4e00-bd16-6ee1e16c5bbf",
   "metadata": {},
   "outputs": [],
   "source": [
    "dataset = 'kepsilon'\n",
    "\n",
    "# Loading data - select which cases to include in the training/validation set (commented out cases are held out)\n",
    "cases = ['DUCT_1100',\n",
    "         'DUCT_1150',\n",
    "         'DUCT_1250',\n",
    "         'DUCT_1300',\n",
    "         'DUCT_1350',\n",
    "         'DUCT_1400',\n",
    "         'DUCT_1500',\n",
    "         'DUCT_1600',\n",
    "         'DUCT_1800',\n",
    "         #'DUCT_2000',\n",
    "         'DUCT_2205',\n",
    "         'DUCT_2400',\n",
    "         'DUCT_2600',\n",
    "         'DUCT_2900',\n",
    "         'DUCT_3200',\n",
    "         #'DUCT_3500',\n",
    "         'PHLL_case_0p5',\n",
    "         'PHLL_case_0p8',\n",
    "         'PHLL_case_1p0',\n",
    "         #'PHLL_case_1p2',\n",
    "         'PHLL_case_1p5',\n",
    "         'BUMP_h20',\n",
    "         'BUMP_h26',\n",
    "         'BUMP_h31',\n",
    "         #'BUMP_h38',\n",
    "         'BUMP_h42',\n",
    "         'CNDV_12600',\n",
    "         'CNDV_20580',\n",
    "         'CBFS_13700'\n",
    "         ]"
   ]
  },
  {
   "cell_type": "code",
   "execution_count": 3,
   "id": "d51fd43d-1ccc-4d9a-8a3a-6cb312d784e3",
   "metadata": {},
   "outputs": [],
   "source": [
    "#Convenient functions for loading dataset\n",
    "def loadCombinedArray(cases,field):\n",
    "    data = np.concatenate([np.load('../data/'+dataset+'/'+dataset+'_'+case+'_'+field + '.npy', allow_pickle=True) for case in cases])\n",
    "    return data"
   ]
  },
  {
   "cell_type": "code",
   "execution_count": 4,
   "id": "4774ee95-f73b-441a-b1b5-72f6aaa5eddd",
   "metadata": {},
   "outputs": [],
   "source": [
    "def loadLabels(cases,field):\n",
    "    data = np.concatenate([np.load('../data/'+'labels/'+case+'_'+field + '.npy') for case in cases])\n",
    "    return data"
   ]
  },
  {
   "cell_type": "code",
   "execution_count": 5,
   "id": "e478cecb-e622-4eac-bac1-60e02ecf93a1",
   "metadata": {},
   "outputs": [
    {
     "name": "stdout",
     "output_type": "stream",
     "text": [
      "Loading features and labels from the dataset: kepsilon\n"
     ]
    }
   ],
   "source": [
    "print('Loading features and labels from the dataset: '+ dataset)"
   ]
  },
  {
   "cell_type": "code",
   "execution_count": 6,
   "id": "de055720-48dd-4cf5-9a48-6642b7023ab5",
   "metadata": {},
   "outputs": [
    {
     "name": "stdout",
     "output_type": "stream",
     "text": [
      "Shape of basis tensor array: (791490, 10, 3, 3)\n"
     ]
    }
   ],
   "source": [
    "#Load the set of ten basis tensors (N,10,3,3), from Pope \"A more general effective-viscosity hypothesis\" (1975).\n",
    "Tensors = loadCombinedArray(cases,'Tensors')\n",
    "print('Shape of basis tensor array: '+str(Tensors.shape))"
   ]
  },
  {
   "cell_type": "code",
   "execution_count": 7,
   "id": "70b55a08-b344-41bc-b8df-19c661b36cfc",
   "metadata": {},
   "outputs": [
    {
     "name": "stdout",
     "output_type": "stream",
     "text": [
      "Shape of invariant features array: (791490, 47)\n"
     ]
    }
   ],
   "source": [
    "#Load the 47 invariants (N,47) used by Wu et al. \"Physics-informed machine learning approach for augmenting turbulence models: A comprehensive framework\" (2018)\n",
    "Invariants = loadCombinedArray(cases,'I1')\n",
    "print('Shape of invariant features array: '+str(Invariants.shape))"
   ]
  },
  {
   "cell_type": "code",
   "execution_count": 8,
   "id": "4eb6706d-8493-4c3c-ae4b-50aeb9cecc8f",
   "metadata": {},
   "outputs": [],
   "source": [
    "# #Load the additional scalars (N,5): \n",
    "# Scalars = loadCombinedArray(cases,'q')\n",
    "# print('Shape of scalar features array: '+str(Scalars.shape))"
   ]
  },
  {
   "cell_type": "code",
   "execution_count": 9,
   "id": "8e9185f5-1f85-4c13-86a6-8c74f3c25a1e",
   "metadata": {},
   "outputs": [
    {
     "name": "stdout",
     "output_type": "stream",
     "text": [
      "Shape of combined features array: (791490, 47)\n"
     ]
    }
   ],
   "source": [
    "Features = Invariants.copy()\n",
    "print('Shape of combined features array: '+str(Features.shape))"
   ]
  },
  {
   "cell_type": "markdown",
   "id": "dde5f216-c09d-45b3-bdbe-ebf1d6485a16",
   "metadata": {},
   "source": [
    "# Data Processing"
   ]
  },
  {
   "cell_type": "code",
   "execution_count": 10,
   "id": "b61e5783-876c-445a-8d13-78cfab24d1d6",
   "metadata": {},
   "outputs": [],
   "source": [
    "def remove_outliers(Features):\n",
    "    stdev = np.std(Features,axis=0)\n",
    "    means = np.mean(Features,axis=0)\n",
    "    ind_drop = np.empty(0)\n",
    "    for i in range(len(Features[0,:])):\n",
    "        ind_drop = np.concatenate((ind_drop,np.where((Features[:,i]>means[i]+5*stdev[i]) | (Features[:,i]<means[i]-5*stdev[i]) )[0]))\n",
    "    return ind_drop.astype(int)\n",
    "\n",
    "outlier_removal_switch = 0\n",
    "if outlier_removal_switch == 1:\n",
    "    outlier_index = remove_outliers(Features)\n",
    "    print('Found '+str(len(outlier_index))+' outliers in the input feature set')\n",
    "    Features = np.delete(Features,outlier_index,axis=0)\n",
    "    Tensors = np.delete(Tensors,outlier_index,axis=0)\n",
    "    Labels = np.delete(Labels,outlier_index,axis=0)\n"
   ]
  },
  {
   "cell_type": "code",
   "execution_count": 11,
   "id": "30c6c3f6-702d-49af-9e5b-305e5cc18ab3",
   "metadata": {},
   "outputs": [
    {
     "name": "stdout",
     "output_type": "stream",
     "text": [
      "Shape of DNS/LES labels array: (791490, 3, 3)\n"
     ]
    }
   ],
   "source": [
    "#Load the label set from DNS/LES:\n",
    "Labels = loadLabels(cases,'b')\n",
    "#If desired, reshape the 3x3 symmetric anisotropy tensor into a 1x6 vector\n",
    "# Labels = np.delete(Labels.reshape((len(Labels),9)),[3,6,7],axis=1)\n",
    "print('Shape of DNS/LES labels array: '+str(Labels.shape))"
   ]
  },
  {
   "cell_type": "code",
   "execution_count": 12,
   "id": "3dbf9572-1efa-4ba8-abe1-644ffab6cca8",
   "metadata": {},
   "outputs": [],
   "source": [
    "indices = np.arange(Features.shape[0])"
   ]
  },
  {
   "cell_type": "code",
   "execution_count": 13,
   "id": "15e84683-08a7-4cb1-a29e-cbb4b57559f3",
   "metadata": {},
   "outputs": [],
   "source": [
    "x_train, x_val, y_train, y_val, ind_train, ind_val = train_test_split(Features, Labels, indices, test_size=0.2, random_state=10, shuffle=True)"
   ]
  },
  {
   "cell_type": "code",
   "execution_count": 14,
   "id": "2f9f09ef-b4cb-46ad-9e11-82a93f91d396",
   "metadata": {},
   "outputs": [],
   "source": [
    "basis_train = Tensors[ind_train]\n",
    "basis_val = Tensors[ind_val]"
   ]
  },
  {
   "cell_type": "code",
   "execution_count": 15,
   "id": "1de0cc25-afa4-4a00-aa97-6be6f33c3168",
   "metadata": {},
   "outputs": [],
   "source": [
    "# scaler = StandardScaler()\n",
    "# x_train = scaler.fit_transform(x_train)\n",
    "# x_val = scaler.transform(x_val)"
   ]
  },
  {
   "cell_type": "code",
   "execution_count": 16,
   "id": "e6bf5015-b168-4458-bcbf-4b5764de7678",
   "metadata": {},
   "outputs": [
    {
     "name": "stdout",
     "output_type": "stream",
     "text": [
      " \n",
      "Training features:\n",
      "(633192, 47)\n",
      "Training tensor basis:\n",
      "(633192, 10, 3, 3)\n",
      "Training labels:\n",
      "(633192, 3, 3)\n",
      " \n",
      "Validation features:\n",
      "(158298, 47)\n",
      "Validation tensor basis:\n",
      "(158298, 10, 3, 3)\n",
      "Validation labels:\n",
      "(158298, 3, 3)\n",
      " \n"
     ]
    }
   ],
   "source": [
    "print(' ')\n",
    "print('Training features:')\n",
    "print(x_train.shape)\n",
    "print('Training tensor basis:')\n",
    "print(basis_train.shape)\n",
    "print('Training labels:')\n",
    "print(y_train.shape)\n",
    "print(' ')\n",
    "print('Validation features:')\n",
    "print(x_val.shape)\n",
    "print('Validation tensor basis:')\n",
    "print(basis_val.shape)\n",
    "print('Validation labels:')\n",
    "print(y_val.shape)\n",
    "print(' ')"
   ]
  },
  {
   "cell_type": "markdown",
   "id": "f6fd0a63-bcb6-4114-a58f-e2d376b4a0f0",
   "metadata": {},
   "source": [
    "# GEP"
   ]
  },
  {
   "cell_type": "code",
   "execution_count": 17,
   "id": "07bf5fed-1b3a-4b87-add6-0884bb90007e",
   "metadata": {},
   "outputs": [],
   "source": [
    "class Operator:\n",
    "    def __init__(self, name, func):\n",
    "        self.name = name\n",
    "        self.nargs = 1\n",
    "        self.func = func\n",
    "        if self.name in ['+', '-', '*']:\n",
    "            self.nargs = 2\n",
    "    def __call__(self, l, r=None):\n",
    "        if self.nargs == 2:\n",
    "            return self.func(l, r)\n",
    "        else:\n",
    "            return self.func(l)"
   ]
  },
  {
   "cell_type": "code",
   "execution_count": 18,
   "id": "916c5ed3-d609-47d3-8c27-922ea7622a91",
   "metadata": {},
   "outputs": [],
   "source": [
    "class Terminal:\n",
    "    def __init__(self, name, value):\n",
    "        self.name = name\n",
    "        self.value = value"
   ]
  },
  {
   "cell_type": "code",
   "execution_count": 19,
   "id": "91e6ba7e-87cf-4a14-bce2-ae3db24fdd80",
   "metadata": {},
   "outputs": [],
   "source": [
    "plus = Operator('+', np.add)\n",
    "minus = Operator('-', np.subtract)\n",
    "star = Operator('*', np.multiply)\n",
    "sin = Operator('s', np.sin)\n",
    "cos = Operator('c', np.cos)\n",
    "exp = Operator('e', np.exp)"
   ]
  },
  {
   "cell_type": "code",
   "execution_count": 20,
   "id": "3789671a-9859-4260-9265-c80d717fcdf2",
   "metadata": {},
   "outputs": [],
   "source": [
    "functional_set = [plus, minus, star, sin, cos, exp]"
   ]
  },
  {
   "cell_type": "code",
   "execution_count": 25,
   "id": "23efd72a-c979-40ed-aae1-2a13fa6e048e",
   "metadata": {},
   "outputs": [],
   "source": [
    "h = 4\n",
    "terminal_set = []\n",
    "# we define x and y as the terminals\n",
    "x = Terminal('x', 10)\n",
    "y = Terminal('y', 20)\n",
    "terminal_set.append(x)\n",
    "terminal_set.append(y)\n",
    "# we also add a set of random vaiables into the terminals set\n",
    "for i in range(h+1):\n",
    "    constant = Terminal(f'const{i}', np.random.randn())\n",
    "    terminal_set.append(constant)"
   ]
  },
  {
   "cell_type": "code",
   "execution_count": 26,
   "id": "3b2a6fcc-1f66-46b3-9343-0b58742f9a3f",
   "metadata": {},
   "outputs": [],
   "source": [
    "def generate_head(h, functional_set, terminal_set):\n",
    "    h_res = h\n",
    "    head = []\n",
    "    while h_res > 0:\n",
    "        gene = np.random.choice(functional_set + terminal_set)\n",
    "        if type(gene) == Operator:\n",
    "            h_res -= gene.nargs\n",
    "        elif type(gene) == Terminal:\n",
    "            h_res -= 1\n",
    "        head.append(gene)\n",
    "    return head\n",
    "head = generate_head(h, functional_set, terminal_set)"
   ]
  },
  {
   "cell_type": "code",
   "execution_count": 27,
   "id": "4fde07ab-ec58-4a0b-a459-57fb9419569b",
   "metadata": {},
   "outputs": [],
   "source": [
    "def generate_tail(h, functional_set, terminal_set):\n",
    "    t = h * (2 - 1) + 1\n",
    "    t_res = t\n",
    "    tail = []\n",
    "    while t_res > 0:\n",
    "        terminal = np.random.choice(terminal_set)\n",
    "        t_res -= 1\n",
    "        tail.append(terminal)\n",
    "    return tail\n",
    "tail = generate_tail(h, functional_set, terminal_set)"
   ]
  },
  {
   "cell_type": "code",
   "execution_count": 28,
   "id": "62114075-798b-4b94-b7b6-3d89e23d3e3f",
   "metadata": {},
   "outputs": [],
   "source": [
    "def print_chromosome(chromosome):\n",
    "    print([gene.name for gene in chromosome])"
   ]
  },
  {
   "cell_type": "code",
   "execution_count": 29,
   "id": "bd110023-5d95-4b54-9238-478fc99d392e",
   "metadata": {},
   "outputs": [
    {
     "name": "stdout",
     "output_type": "stream",
     "text": [
      "['const3', 'const3', 'const3', '-']\n"
     ]
    }
   ],
   "source": [
    "print_chromosome(head)"
   ]
  },
  {
   "cell_type": "code",
   "execution_count": 30,
   "id": "231d564e-8d2d-4699-9f61-27335ee90b77",
   "metadata": {},
   "outputs": [
    {
     "name": "stdout",
     "output_type": "stream",
     "text": [
      "['const4', 'const0', 'const0', 'const0', 'x']\n"
     ]
    }
   ],
   "source": [
    "print_chromosome(tail)"
   ]
  },
  {
   "cell_type": "code",
   "execution_count": 31,
   "id": "3aac718e-2dc7-43a8-87b5-32b03b3edd08",
   "metadata": {},
   "outputs": [
    {
     "data": {
      "text/plain": [
       "(-0.8083687470701534,\n",
       " [<__main__.Terminal at 0x7fe1e95edcd0>,\n",
       "  <__main__.Terminal at 0x7fe1e95edcd0>,\n",
       "  <__main__.Operator at 0x7fe1f09d0460>],\n",
       " [<__main__.Terminal at 0x7fe1e95ed520>,\n",
       "  <__main__.Terminal at 0x7fe1e95e9670>,\n",
       "  <__main__.Terminal at 0x7fe1e95e9670>,\n",
       "  <__main__.Terminal at 0x7fe1e95e9670>,\n",
       "  <__main__.Terminal at 0x7fe1e95e9460>])"
      ]
     },
     "execution_count": 31,
     "metadata": {},
     "output_type": "execute_result"
    }
   ],
   "source": [
    "def calc(head, tail):\n",
    "    if len(head) == 0:\n",
    "        gene = tail[0]\n",
    "        # here gene type is always Terminal, however, we keep it for future\n",
    "        if type(gene) == Terminal:\n",
    "            return gene.value, head, tail[1:]\n",
    "        elif type(gene) == Operator:\n",
    "            if gene.nargs == 2:\n",
    "                left, new_head, new_tail = calc(head, tail[1:])\n",
    "                right, new_head, new_tail = calc(new_head, new_tail)\n",
    "                return gene(left, right), new_head, new_tail\n",
    "            elif gene.nargs == 1:\n",
    "                left, new_head, new_tail = calc(head, tail[1:])\n",
    "                return gene(left), new_head, new_tail\n",
    "    else:\n",
    "        gene = head[0]\n",
    "        if type(gene) == Terminal:\n",
    "            return gene.value, head[1:], tail\n",
    "        elif type(gene) == Operator:\n",
    "            if gene.nargs == 2:\n",
    "                left, new_head, new_tail = calc(head[1:], tail)\n",
    "                right, new_head, new_tail = calc(new_head, new_tail)\n",
    "                return gene(left, right), new_head, new_tail\n",
    "            elif gene.nargs == 1:\n",
    "                left, new_head, new_tail = calc(head[1:], tail)\n",
    "                return gene(left), new_head, new_tail\n",
    "            \n",
    "\n",
    "calc(head, tail)"
   ]
  },
  {
   "cell_type": "code",
   "execution_count": 32,
   "id": "897388f4-e505-48a0-9bda-2c0b52f338e6",
   "metadata": {},
   "outputs": [],
   "source": [
    "generation_size = 20\n",
    "generation = [(generate_head(4, functional_set, terminal_set),\n",
    "               generate_tail(4, functional_set, terminal_set)) for i in range(generation_size)]"
   ]
  }
 ],
 "metadata": {
  "kernelspec": {
   "display_name": "Python 3 (ipykernel)",
   "language": "python",
   "name": "python3"
  },
  "language_info": {
   "codemirror_mode": {
    "name": "ipython",
    "version": 3
   },
   "file_extension": ".py",
   "mimetype": "text/x-python",
   "name": "python",
   "nbconvert_exporter": "python",
   "pygments_lexer": "ipython3",
   "version": "3.8.10"
  }
 },
 "nbformat": 4,
 "nbformat_minor": 5
}
